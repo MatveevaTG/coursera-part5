{
 "cells": [
  {
   "cell_type": "markdown",
   "metadata": {},
   "source": [
    "# Рекомендательные системы"
   ]
  },
  {
   "cell_type": "markdown",
   "metadata": {},
   "source": [
    "Небольшой интернет-магазин попросил вас добавить ранжирование товаров в блок \"Смотрели ранее\" - в нем теперь надо показывать не последние просмотренные пользователем товары, а те товары из просмотренных, которые он наиболее вероятно купит. Качество вашего решения будет оцениваться по количеству покупок в сравнении с прошлым решением в ходе А/В теста, т.к. по доходу от продаж статзначимость будет достигаться дольше из-за разброса цен. Таким образом, ничего заранее не зная про корреляцию оффлайновых и онлайновых метрик качества, в начале проекта вы можете лишь постараться оптимизировать recall@k и precision@k.\n",
    "\n",
    "Это задание посвящено построению простых бейзлайнов для этой задачи: ранжирование просмотренных товаров по частоте просмотров и по частоте покупок. Эти бейзлайны, с одной стороны, могут помочь вам грубо оценить возможный эффект от ранжирования товаров в блоке - например, чтобы вписать какие-то числа в коммерческое предложение заказчику, а с другой стороны, могут оказаться самым хорошим вариантом, если данных очень мало (недостаточно для обучения даже простых моделей)."
   ]
  },
  {
   "cell_type": "code",
   "execution_count": 1,
   "metadata": {},
   "outputs": [],
   "source": [
    "import numpy as np\n",
    "import pandas as pd"
   ]
  },
  {
   "cell_type": "markdown",
   "metadata": {},
   "source": [
    "#### Входные данные\n",
    "\n",
    "Вам дается две выборки с пользовательскими сессиями - id-шниками просмотренных и id-шниками купленных товаров. Одна выборка будет использоваться для обучения (оценки популярностей товаров), а другая - для теста.\n",
    "\n",
    "В файлах записаны сессии по одной в каждой строке. Формат сессии: id просмотренных товаров через , затем идёт ; после чего следуют id купленных товаров (если такие имеются), разделённые запятой. Например, 1,2,3,4; или 1,2,3,4;5,6.\n",
    "\n",
    "Гарантируется, что среди id купленных товаров все различные.\n",
    "\n",
    "Важно:\n",
    "\n",
    "- Сессии, в которых пользователь ничего не купил, исключаем из оценки качества.\n",
    "- Если товар не встречался в обучающей выборке, его популярность равна 0.\n",
    "- Рекомендуем разные товары. И их число должно быть не больше, чем количество различных просмотренных пользователем товаров.\n",
    "- Рекомендаций всегда не больше, чем минимум из двух чисел: количество просмотренных пользователем товаров и k в recall@k / precision@k."
   ]
  },
  {
   "cell_type": "code",
   "execution_count": 2,
   "metadata": {},
   "outputs": [],
   "source": [
    "train_pay = []\n",
    "train_not_pay = []\n",
    "with open(\"coursera_sessions_train.txt\", \"r\") as f:\n",
    "    for s in f:\n",
    "        x = s.rstrip().split(\";\")\n",
    "        if not x[1]:\n",
    "            train_not_pay.append(np.array([int(y) for y in x[0].split(\",\")]))\n",
    "        else:\n",
    "            train_pay.append([np.array([int(y) for y in x[0].split(\",\")]), np.array([int(y) for y in x[1].split(\",\")])])"
   ]
  },
  {
   "cell_type": "code",
   "execution_count": 3,
   "metadata": {},
   "outputs": [],
   "source": [
    "n_prod = max(max(max(x[0].max(), x[1].max()) for x in train_pay), max([x.max() for x in train_not_pay]))"
   ]
  },
  {
   "cell_type": "markdown",
   "metadata": {},
   "source": [
    "1. На обучении постройте частоты появления id в просмотренных и в купленных (id может несколько раз появляться в просмотренных, все появления надо учитывать)"
   ]
  },
  {
   "cell_type": "code",
   "execution_count": 4,
   "metadata": {},
   "outputs": [],
   "source": [
    "prod_view = np.zeros(n_prod+1)\n",
    "prod_buy = np.zeros(n_prod+1)"
   ]
  },
  {
   "cell_type": "code",
   "execution_count": 5,
   "metadata": {},
   "outputs": [],
   "source": [
    "n_view = 0\n",
    "n_buy = 0\n",
    "\n",
    "for x in train_pay:\n",
    "    n_view += len(x[0])\n",
    "    n_buy += len(x[1])\n",
    "    for y in x[0]:\n",
    "        prod_view[y] += 1\n",
    "    for y in x[1]:\n",
    "        prod_buy[y] += 1\n",
    "        \n",
    "for x in train_not_pay:\n",
    "    n_view += len(x)\n",
    "    for y in x:\n",
    "        prod_view[y] += 1\n",
    "        \n",
    "prod_view *= (1/n_view)\n",
    "prod_buy *= (1/n_buy)"
   ]
  },
  {
   "cell_type": "markdown",
   "metadata": {},
   "source": [
    "2. Реализуйте два алгоритма рекомендаций:\n",
    "\n",
    " сортировка просмотренных id по популярности (частота появления в просмотренных),\n",
    " \n",
    " сортировка просмотренных id по покупаемости (частота появления в покупках)."
   ]
  },
  {
   "cell_type": "code",
   "execution_count": 6,
   "metadata": {},
   "outputs": [],
   "source": [
    "# работаем только с data_pay\n",
    "# сразу беру срез\n",
    "train_pay_rec_view = []\n",
    "train_pay_rec_buy = []\n",
    "for l in train_pay:\n",
    "    train_pay_rec_view.append(sorted(set(l[0]), key = lambda x: prod_view[x], reverse = True)[:5])\n",
    "    train_pay_rec_buy.append(sorted(set(l[0]), key = lambda x: prod_buy[x], reverse = True)[:5])"
   ]
  },
  {
   "cell_type": "code",
   "execution_count": 7,
   "metadata": {},
   "outputs": [],
   "source": [
    "test_pay = []\n",
    "test_not_pay = []\n",
    "with open(\"coursera_sessions_test.txt\", \"r\") as f:\n",
    "    for s in f:\n",
    "        x = s.rstrip().split(\";\")\n",
    "        if not x[1]:\n",
    "            test_not_pay.append(np.array([int(y) for y in x[0].split(\",\")]))\n",
    "        else:\n",
    "            test_pay.append([np.array([int(y) for y in x[0].split(\",\")]), np.array([int(y) for y in x[1].split(\",\")])])"
   ]
  },
  {
   "cell_type": "code",
   "execution_count": 8,
   "metadata": {},
   "outputs": [],
   "source": [
    "test_pay_rec_view = []\n",
    "test_pay_rec_buy = []\n",
    "for l in test_pay:\n",
    "    test_pay_rec_view.append(sorted(set(l[0]), key = lambda x: prod_view[x], reverse = True)[:5])\n",
    "    test_pay_rec_buy.append(sorted(set(l[0]), key = lambda x: prod_buy[x], reverse = True)[:5])"
   ]
  },
  {
   "cell_type": "markdown",
   "metadata": {},
   "source": [
    "3. Для данных алгоритмов выпишите через пробел AverageRecall@1, AveragePrecision@1, AverageRecall@5, AveragePrecision@5 на обучающей и тестовых выборках, округляя до 2 знака после запятой. Это будут ваши ответы в этом задании. Посмотрите, как они соотносятся друг с другом. Где качество получилось выше? Значимо ли это различие? Обратите внимание на различие качества на обучающей и тестовой выборке в случае рекомендаций по частотам покупки."
   ]
  },
  {
   "cell_type": "code",
   "execution_count": 9,
   "metadata": {},
   "outputs": [
    {
     "name": "stdout",
     "output_type": "stream",
     "text": [
      "0.44037082805098327 0.5091463414634146 0.8243792477232056 0.2124168514412417\n"
     ]
    }
   ],
   "source": [
    "#сортировка просмотренных id по популярности (частота появления в просмотренных),train\n",
    "r_1 = np.array([int(y[0] in x[1])/len(x[1]) for (x, y) in zip(train_pay, train_pay_rec_view)]).mean()\n",
    "p_1 = np.array([int(y[0] in x[1]) for (x, y) in zip(train_pay, train_pay_rec_view)]).mean()\n",
    "r_5 = np.array([sum(int(k in x[1]) for k in y)/len(x[1]) for (x, y) in zip(train_pay, train_pay_rec_view)]).mean()\n",
    "p_5 = np.array([sum(int(k in x[1]) for k in y)/5 for (x, y) in zip(train_pay, train_pay_rec_view)]).mean()\n",
    "print(r_1, p_1, r_5, p_5)"
   ]
  },
  {
   "cell_type": "code",
   "execution_count": 11,
   "metadata": {},
   "outputs": [
    {
     "name": "stdout",
     "output_type": "stream",
     "text": [
      "0.4156838606292903 0.4796725784447476 0.7981702321435025 0.2037653478854025\n"
     ]
    }
   ],
   "source": [
    "#сортировка просмотренных id по популярности (частота появления в просмотренных),test\n",
    "r_1 = np.array([int(y[0] in x[1])/len(x[1]) for (x, y) in zip(test_pay, test_pay_rec_view)]).mean()\n",
    "p_1 = np.array([int(y[0] in x[1]) for (x, y) in zip(test_pay, test_pay_rec_view)]).mean()\n",
    "r_5 = np.array([sum(int(k in x[1]) for k in y)/len(x[1]) for (x, y) in zip(test_pay, test_pay_rec_view)]).mean()\n",
    "p_5 = np.array([sum(int(k in x[1]) for k in y)/5 for (x, y) in zip(test_pay, test_pay_rec_view)]).mean()\n",
    "print(r_1, p_1, r_5, p_5)"
   ]
  },
  {
   "cell_type": "code",
   "execution_count": 13,
   "metadata": {},
   "outputs": [
    {
     "name": "stdout",
     "output_type": "stream",
     "text": [
      "0.6776652563376511 0.7935144124168514 0.9274279382233926 0.2529933481152994\n"
     ]
    }
   ],
   "source": [
    "#сортировка просмотренных id по покупаемости (частота появления в покупках),train\n",
    "r_1 = np.array([int(y[0] in x[1])/len(x[1]) for (x, y) in zip(train_pay, train_pay_rec_buy)]).mean()\n",
    "p_1 = np.array([int(y[0] in x[1]) for (x, y) in zip(train_pay, train_pay_rec_buy)]).mean()\n",
    "r_5 = np.array([sum(int(k in x[1]) for k in y)/len(x[1]) for (x, y) in zip(train_pay, train_pay_rec_buy)]).mean()\n",
    "p_5 = np.array([sum(int(k in x[1]) for k in y)/5 for (x, y) in zip(train_pay, train_pay_rec_buy)]).mean()\n",
    "print(r_1, p_1, r_5, p_5)"
   ]
  },
  {
   "cell_type": "code",
   "execution_count": 15,
   "metadata": {},
   "outputs": [
    {
     "name": "stdout",
     "output_type": "stream",
     "text": [
      "0.41054767700622774 0.47394270122783083 0.7914141818379778 0.20163710777626193\n"
     ]
    }
   ],
   "source": [
    "#сортировка просмотренных id по покупаемости (частота появления в покупках),test\n",
    "r_1 = np.array([int(y[0] in x[1])/len(x[1]) for (x, y) in zip(test_pay, test_pay_rec_buy)]).mean()\n",
    "p_1 = np.array([int(y[0] in x[1]) for (x, y) in zip(test_pay, test_pay_rec_buy)]).mean()\n",
    "r_5 = np.array([sum(int(k in x[1]) for k in y)/len(x[1]) for (x, y) in zip(test_pay, test_pay_rec_buy)]).mean()\n",
    "p_5 = np.array([sum(int(k in x[1]) for k in y)/5 for (x, y) in zip(test_pay, test_pay_rec_buy)]).mean()\n",
    "print(r_1, p_1, r_5, p_5)"
   ]
  },
  {
   "cell_type": "code",
   "execution_count": null,
   "metadata": {},
   "outputs": [],
   "source": []
  }
 ],
 "metadata": {
  "kernelspec": {
   "display_name": "Python 3",
   "language": "python",
   "name": "python3"
  },
  "language_info": {
   "codemirror_mode": {
    "name": "ipython",
    "version": 3
   },
   "file_extension": ".py",
   "mimetype": "text/x-python",
   "name": "python",
   "nbconvert_exporter": "python",
   "pygments_lexer": "ipython3",
   "version": "3.7.3"
  }
 },
 "nbformat": 4,
 "nbformat_minor": 2
}
